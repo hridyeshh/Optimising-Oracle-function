{
 "cells": [
  {
   "cell_type": "code",
   "execution_count": 188,
   "id": "fd793085-43bf-4c90-9b24-9bc539ef1a55",
   "metadata": {},
   "outputs": [],
   "source": [
    "my_list = [3,2,4,5,1,7,8,9,6,10,11,12,13,45,65,0, 99,34,77,54,24,98,14,53,76,56,87]"
   ]
  },
  {
   "cell_type": "code",
   "execution_count": 226,
   "id": "a3e0c4a4-41ff-43df-9cba-80b8a1f28108",
   "metadata": {},
   "outputs": [],
   "source": [
    "def the_oracle(input):\n",
    "    winner = 3\n",
    "    if input is winner :\n",
    "        response = True\n",
    "    else :\n",
    "        response = False\n",
    "    return response"
   ]
  },
  {
   "cell_type": "code",
   "execution_count": 227,
   "id": "afa3996e-1dc4-44a0-85f7-0b44f1668f04",
   "metadata": {},
   "outputs": [
    {
     "name": "stdout",
     "output_type": "stream",
     "text": [
      "Winner found at index 0\n",
      "1 calls to the Oracle used\n"
     ]
    }
   ],
   "source": [
    "for index, trial_number in enumerate(my_list):\n",
    "    if the_oracle(trial_number) is True:\n",
    "        print ('Winner found at index %i'%index) \n",
    "        print('%i calls to the Oracle used'%(index+1))\n",
    "        break"
   ]
  },
  {
   "cell_type": "code",
   "execution_count": 243,
   "id": "0b52a3f8-8fc3-4326-83fd-92f9879b99bb",
   "metadata": {},
   "outputs": [],
   "source": [
    "from qiskit import *\n",
    "from qiskit_aer import Aer\n",
    "from qiskit import QuantumCircuit\n",
    "import matplotlib.pyplot as plt\n",
    "import numpy as np"
   ]
  },
  {
   "cell_type": "code",
   "execution_count": 244,
   "id": "93a6366b-c5af-458b-ba7c-de0bddcaccb5",
   "metadata": {},
   "outputs": [
    {
     "data": {
      "text/html": [
       "<pre style=\"word-wrap: normal;white-space: pre;background: #fff0;line-height: 1.1;font-family: &quot;Courier New&quot;,Courier,monospace\">        \n",
       "q_0: ─■─\n",
       "      │ \n",
       "q_1: ─■─\n",
       "        </pre>"
      ],
      "text/plain": [
       "        \n",
       "q_0: ─■─\n",
       "      │ \n",
       "q_1: ─■─\n",
       "        "
      ]
     },
     "execution_count": 244,
     "metadata": {},
     "output_type": "execute_result"
    }
   ],
   "source": [
    "oracle = QuantumCircuit (2, name=' oracle' )\n",
    "oracle.cz (0,1)\n",
    "oracle. to_gate()\n",
    "oracle.draw()"
   ]
  },
  {
   "cell_type": "code",
   "execution_count": 245,
   "id": "3d420fce-e1ca-4fd8-984e-8a3e0e56428c",
   "metadata": {},
   "outputs": [
    {
     "data": {
      "text/html": [
       "<pre style=\"word-wrap: normal;white-space: pre;background: #fff0;line-height: 1.1;font-family: &quot;Courier New&quot;,Courier,monospace\">     ┌───┐┌──────────┐\n",
       "q_0: ┤ H ├┤0         ├\n",
       "     ├───┤│   oracle │\n",
       "q_1: ┤ H ├┤1         ├\n",
       "     └───┘└──────────┘\n",
       "c: 2/═════════════════\n",
       "                      </pre>"
      ],
      "text/plain": [
       "     ┌───┐┌──────────┐\n",
       "q_0: ┤ H ├┤0         ├\n",
       "     ├───┤│   oracle │\n",
       "q_1: ┤ H ├┤1         ├\n",
       "     └───┘└──────────┘\n",
       "c: 2/═════════════════\n",
       "                      "
      ]
     },
     "execution_count": 245,
     "metadata": {},
     "output_type": "execute_result"
    }
   ],
   "source": [
    "backend1 = Aer.get_backend('statevector_simulator')\n",
    "grover_circ = QuantumCircuit(2,2)\n",
    "grover_circ.h( [0,1])\n",
    "grover_circ.append (oracle, [0,1]) \n",
    "grover_circ.draw()"
   ]
  },
  {
   "cell_type": "code",
   "execution_count": 246,
   "id": "1a432d54-324c-4a55-a089-ac785f973f5e",
   "metadata": {},
   "outputs": [],
   "source": [
    "job = transpile(grover_circ, backend1)\n",
    "result = backend.run(job)"
   ]
  },
  {
   "cell_type": "code",
   "execution_count": 247,
   "id": "861f0138-25be-4cc9-b35c-0a975dd0ab37",
   "metadata": {},
   "outputs": [
    {
     "name": "stdout",
     "output_type": "stream",
     "text": [
      "Statevector([ 0.5+0.j,  0.5+0.j,  0.5+0.j, -0.5+0.j],\n",
      "            dims=(2, 2))\n"
     ]
    },
    {
     "data": {
      "text/html": [
       "<pre style=\"word-wrap: normal;white-space: pre;background: #fff0;line-height: 1.1;font-family: &quot;Courier New&quot;,Courier,monospace\">     ┌───┐┌──────────┐\n",
       "q_0: ┤ H ├┤0         ├\n",
       "     ├───┤│   oracle │\n",
       "q_1: ┤ H ├┤1         ├\n",
       "     └───┘└──────────┘\n",
       "c: 2/═════════════════\n",
       "                      </pre>"
      ],
      "text/plain": [
       "     ┌───┐┌──────────┐\n",
       "q_0: ┤ H ├┤0         ├\n",
       "     ├───┤│   oracle │\n",
       "q_1: ┤ H ├┤1         ├\n",
       "     └───┘└──────────┘\n",
       "c: 2/═════════════════\n",
       "                      "
      ]
     },
     "execution_count": 247,
     "metadata": {},
     "output_type": "execute_result"
    }
   ],
   "source": [
    "grover_circ.remove_final_measurements()\n",
    "from qiskit.quantum_info import Statevector\n",
    "statevector = Statevector(grover_circ)\n",
    "print(statevector)\n",
    "np.around(statevector, 2)\n",
    "grover_circ.draw()"
   ]
  },
  {
   "cell_type": "code",
   "execution_count": 248,
   "id": "04ccadd4-c883-419f-8f71-12987b953c9c",
   "metadata": {},
   "outputs": [
    {
     "data": {
      "text/plain": [
       "Instruction(name='reflection', num_qubits=2, num_clbits=0, params=[])"
      ]
     },
     "execution_count": 248,
     "metadata": {},
     "output_type": "execute_result"
    }
   ],
   "source": [
    "reflection = QuantumCircuit(2, name='reflection')\n",
    "reflection.h ([0,1]) \n",
    "reflection.z([0,1])\n",
    "reflection.cz (0,1)\n",
    "reflection.h([0,1])\n",
    "reflection.to_gate()"
   ]
  },
  {
   "cell_type": "code",
   "execution_count": 249,
   "id": "71fbbf80-a9b2-4046-8f4f-50aeb5b304e7",
   "metadata": {},
   "outputs": [
    {
     "data": {
      "text/html": [
       "<pre style=\"word-wrap: normal;white-space: pre;background: #fff0;line-height: 1.1;font-family: &quot;Courier New&quot;,Courier,monospace\">     ┌───┐┌───┐   ┌───┐\n",
       "q_0: ┤ H ├┤ Z ├─■─┤ H ├\n",
       "     ├───┤├───┤ │ ├───┤\n",
       "q_1: ┤ H ├┤ Z ├─■─┤ H ├\n",
       "     └───┘└───┘   └───┘</pre>"
      ],
      "text/plain": [
       "     ┌───┐┌───┐   ┌───┐\n",
       "q_0: ┤ H ├┤ Z ├─■─┤ H ├\n",
       "     ├───┤├───┤ │ ├───┤\n",
       "q_1: ┤ H ├┤ Z ├─■─┤ H ├\n",
       "     └───┘└───┘   └───┘"
      ]
     },
     "execution_count": 249,
     "metadata": {},
     "output_type": "execute_result"
    }
   ],
   "source": [
    "reflection.draw()"
   ]
  },
  {
   "cell_type": "code",
   "execution_count": 250,
   "id": "95e08af0-bc9e-4f40-b140-11ac6280e7f1",
   "metadata": {},
   "outputs": [
    {
     "data": {
      "text/plain": [
       "<qiskit.circuit.instructionset.InstructionSet at 0x151b9bf70>"
      ]
     },
     "execution_count": 250,
     "metadata": {},
     "output_type": "execute_result"
    }
   ],
   "source": [
    "backend2 = Aer.get_backend('qasm_simulator')\n",
    "grover_circ = QuantumCircuit (2,2)\n",
    "grover_circ.h([0,1])\n",
    "grover_circ.append(oracle,[0,1]) \n",
    "grover_circ.append(reflection,[0,1]) \n",
    "grover_circ.measure([0,1],[0,1])"
   ]
  },
  {
   "cell_type": "code",
   "execution_count": 251,
   "id": "28830301-f128-40a3-83ea-0f7599bbfebb",
   "metadata": {},
   "outputs": [
    {
     "data": {
      "text/html": [
       "<pre style=\"word-wrap: normal;white-space: pre;background: #fff0;line-height: 1.1;font-family: &quot;Courier New&quot;,Courier,monospace\">     ┌───┐┌──────────┐┌─────────────┐┌─┐   \n",
       "q_0: ┤ H ├┤0         ├┤0            ├┤M├───\n",
       "     ├───┤│   oracle ││  reflection │└╥┘┌─┐\n",
       "q_1: ┤ H ├┤1         ├┤1            ├─╫─┤M├\n",
       "     └───┘└──────────┘└─────────────┘ ║ └╥┘\n",
       "c: 2/═════════════════════════════════╩══╩═\n",
       "                                      0  1 </pre>"
      ],
      "text/plain": [
       "     ┌───┐┌──────────┐┌─────────────┐┌─┐   \n",
       "q_0: ┤ H ├┤0         ├┤0            ├┤M├───\n",
       "     ├───┤│   oracle ││  reflection │└╥┘┌─┐\n",
       "q_1: ┤ H ├┤1         ├┤1            ├─╫─┤M├\n",
       "     └───┘└──────────┘└─────────────┘ ║ └╥┘\n",
       "c: 2/═════════════════════════════════╩══╩═\n",
       "                                      0  1 "
      ]
     },
     "execution_count": 251,
     "metadata": {},
     "output_type": "execute_result"
    }
   ],
   "source": [
    "grover_circ.draw()"
   ]
  },
  {
   "cell_type": "code",
   "execution_count": 253,
   "id": "c97040cf-4068-42f4-8f05-b97efb5feaf7",
   "metadata": {},
   "outputs": [
    {
     "name": "stdout",
     "output_type": "stream",
     "text": [
      "Statevector([1.26316153e-34+0.j, 2.36158002e-17+0.j, 9.52420783e-18+0.j,\n",
      "             1.00000000e+00+0.j],\n",
      "            dims=(2, 2))\n"
     ]
    },
    {
     "data": {
      "text/plain": [
       "array([0.+0.j, 0.+0.j, 0.+0.j, 1.+0.j])"
      ]
     },
     "execution_count": 253,
     "metadata": {},
     "output_type": "execute_result"
    }
   ],
   "source": [
    "grover_circ.remove_final_measurements()\n",
    "from qiskit.quantum_info import Statevector\n",
    "statevector = Statevector(grover_circ)\n",
    "print(statevector)\n",
    "np.around(statevector, 3)"
   ]
  }
 ],
 "metadata": {
  "kernelspec": {
   "display_name": "Python 3 (ipykernel)",
   "language": "python",
   "name": "python3"
  },
  "language_info": {
   "codemirror_mode": {
    "name": "ipython",
    "version": 3
   },
   "file_extension": ".py",
   "mimetype": "text/x-python",
   "name": "python",
   "nbconvert_exporter": "python",
   "pygments_lexer": "ipython3",
   "version": "3.11.7"
  }
 },
 "nbformat": 4,
 "nbformat_minor": 5
}
